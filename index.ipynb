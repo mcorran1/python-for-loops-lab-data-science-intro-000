{
 "cells": [
  {
   "cell_type": "markdown",
   "metadata": {},
   "source": [
    "# Python For loops Lab"
   ]
  },
  {
   "cell_type": "markdown",
   "metadata": {},
   "source": [
    "### Learning Objectives"
   ]
  },
  {
   "cell_type": "markdown",
   "metadata": {},
   "source": [
    "* Understand how for loops can help us reduce repetition\n",
    "* Understand the syntax of for loops "
   ]
  },
  {
   "cell_type": "markdown",
   "metadata": {},
   "source": [
    "### Picking up where we last left off"
   ]
  },
  {
   "cell_type": "markdown",
   "metadata": {},
   "source": [
    "In the last lesson, we worked with some of our travel data.  Let's retrieve a list with our travel information again from excel.  First, we read the information from excel as a list of dictionaries, with each dictionary representing a location.  And we assign this list to the variable `cities`."
   ]
  },
  {
   "cell_type": "code",
   "execution_count": 2,
   "metadata": {},
   "outputs": [
    {
     "name": "stderr",
     "output_type": "stream",
     "text": [
      "/opt/conda/lib/python3.6/importlib/_bootstrap.py:219: RuntimeWarning: numpy.dtype size changed, may indicate binary incompatibility. Expected 96, got 88\n",
      "  return f(*args, **kwds)\n",
      "/opt/conda/lib/python3.6/importlib/_bootstrap.py:219: RuntimeWarning: numpy.dtype size changed, may indicate binary incompatibility. Expected 96, got 88\n",
      "  return f(*args, **kwds)\n"
     ]
    }
   ],
   "source": [
    "import pandas\n",
    "file_name = './cities.xlsx'\n",
    "travel_df = pandas.read_excel(file_name)\n",
    "cities = travel_df.to_dict('records')"
   ]
  },
  {
   "cell_type": "markdown",
   "metadata": {},
   "source": [
    "Next, we retrieve the first three city names, stored as the `'City'` attribute of each dictionary, and `'Population'` of each of the cities.  Then we plot the names as our `x_values` and the populations as our `y_values`."
   ]
  },
  {
   "cell_type": "code",
   "execution_count": 3,
   "metadata": {},
   "outputs": [
    {
     "data": {
      "text/html": [
       "<script>requirejs.config({paths: { 'plotly': ['https://cdn.plot.ly/plotly-latest.min']},});if(!window.Plotly) {{require(['plotly'],function(plotly) {window.Plotly=plotly;});}}</script>"
      ],
      "text/vnd.plotly.v1+html": [
       "<script>requirejs.config({paths: { 'plotly': ['https://cdn.plot.ly/plotly-latest.min']},});if(!window.Plotly) {{require(['plotly'],function(plotly) {window.Plotly=plotly;});}}</script>"
      ]
     },
     "metadata": {},
     "output_type": "display_data"
    },
    {
     "data": {
      "application/vnd.plotly.v1+json": {
       "data": [
        {
         "type": "bar",
         "x": [
          "Buenos Aires",
          "Toronto",
          "Pyeongchang"
         ],
         "y": [
          2891000,
          2800000,
          2581000
         ]
        }
       ],
       "layout": {}
      },
      "text/html": [
       "<div id=\"270d4228-cfc8-423f-96b2-b8904c011e5d\" style=\"height: 525px; width: 100%;\" class=\"plotly-graph-div\"></div><script type=\"text/javascript\">require([\"plotly\"], function(Plotly) { window.PLOTLYENV=window.PLOTLYENV || {};window.PLOTLYENV.BASE_URL=\"https://plot.ly\";Plotly.newPlot(\"270d4228-cfc8-423f-96b2-b8904c011e5d\", [{\"x\": [\"Buenos Aires\", \"Toronto\", \"Pyeongchang\"], \"y\": [2891000, 2800000, 2581000], \"type\": \"bar\"}], {}, {\"showLink\": true, \"linkText\": \"Export to plot.ly\"})});</script>"
      ],
      "text/vnd.plotly.v1+html": [
       "<div id=\"270d4228-cfc8-423f-96b2-b8904c011e5d\" style=\"height: 525px; width: 100%;\" class=\"plotly-graph-div\"></div><script type=\"text/javascript\">require([\"plotly\"], function(Plotly) { window.PLOTLYENV=window.PLOTLYENV || {};window.PLOTLYENV.BASE_URL=\"https://plot.ly\";Plotly.newPlot(\"270d4228-cfc8-423f-96b2-b8904c011e5d\", [{\"x\": [\"Buenos Aires\", \"Toronto\", \"Pyeongchang\"], \"y\": [2891000, 2800000, 2581000], \"type\": \"bar\"}], {}, {\"showLink\": true, \"linkText\": \"Export to plot.ly\"})});</script>"
      ]
     },
     "metadata": {},
     "output_type": "display_data"
    }
   ],
   "source": [
    "import plotly\n",
    "\n",
    "plotly.offline.init_notebook_mode(connected=True)\n",
    "\n",
    "x_values = [cities[0]['City'], cities[1]['City'], cities[2]['City']]\n",
    "y_values = [cities[0]['Population'], cities[1]['Population'], cities[2]['Population']]\n",
    "trace_first_three_pops = {'x': x_values, 'y': y_values, 'type': 'bar'}\n",
    "plotly.offline.iplot([trace_first_three_pops])"
   ]
  },
  {
   "cell_type": "markdown",
   "metadata": {},
   "source": [
    "Of course, as you may have spotted, there is a good amount of repetition in displaying this data.  Just take a look at how we retrieved the data for our `x_values` and `y_values`.  "
   ]
  },
  {
   "cell_type": "code",
   "execution_count": 4,
   "metadata": {},
   "outputs": [],
   "source": [
    "x_values = [cities[0]['City'], cities[1]['City'], cities[2]['City']]\n",
    "y_values = [cities[0]['Population'], cities[1]['Population'], cities[2]['Population']]"
   ]
  },
  {
   "cell_type": "markdown",
   "metadata": {},
   "source": [
    "So in this lesson, we will use our `for` loop to display information about our travel locations with less repetition."
   ]
  },
  {
   "cell_type": "markdown",
   "metadata": {},
   "source": [
    "### Working with the For Loop"
   ]
  },
  {
   "cell_type": "markdown",
   "metadata": {},
   "source": [
    "Our `cities` list contains information about the top 12 cities.  For our upcoming iteration tasks, it will be useful to have a list of the numbers 0 through 11.  Use what we know about `len` and `range`to generate a list of numbers 1 through 11.  Assign this to a variable called `city_indices`."
   ]
  },
  {
   "cell_type": "code",
   "execution_count": 5,
   "metadata": {},
   "outputs": [
    {
     "data": {
      "text/plain": [
       "[0, 1, 2, 3, 4, 5, 6, 7, 8, 9, 10, 11]"
      ]
     },
     "execution_count": 5,
     "metadata": {},
     "output_type": "execute_result"
    }
   ],
   "source": [
    "city_indices = list(range(len(cities)))\n",
    "city_indices # [0, 1, 2, 3, 4, 5, 6, 7, 8, 9, 10, 11]"
   ]
  },
  {
   "cell_type": "markdown",
   "metadata": {},
   "source": [
    "Now we want to create labels for each of the cities. We'll provide a list of the `city_names` for you. "
   ]
  },
  {
   "cell_type": "code",
   "execution_count": 6,
   "metadata": {},
   "outputs": [],
   "source": [
    "city_names = ['Buenos Aires',\n",
    " 'Toronto',\n",
    " 'Pyeongchang',\n",
    " 'Marakesh',\n",
    " 'Albuquerque',\n",
    " 'Los Cabos',\n",
    " 'Greenville',\n",
    " 'Archipelago Sea',\n",
    " 'Walla Walla Valley',\n",
    " 'Salina Island',\n",
    " 'Solta',\n",
    " 'Iguazu Falls']\n",
    "\n",
    "\n"
   ]
  },
  {
   "cell_type": "markdown",
   "metadata": {},
   "source": [
    "Your task is to assign the variable `names_and_ranks` to a list, with each element equal to the city name and it's corresponding rank.  For example, the first element would be, `\"1. Buenos Aires\"` and the second would be `\"2. Toronto\"`.  Use a `for` loop and the lists `city_indices` and `city_names` to accomplish this.  We'll need to perform some nifty string interpolation to format our strings properly.  Check out [f-string interpolation](https://www.programiz.com/python-programming/string-interpolation#f) to see how we can pass values into a string.  Remember that list indices start at zero, but we want our `names_and_ranks` list to start at one!"
   ]
  },
  {
   "cell_type": "code",
   "execution_count": 27,
   "metadata": {},
   "outputs": [
    {
     "data": {
      "text/plain": [
       "['1. Buenos Aires',\n",
       " '2. Buenos Aires',\n",
       " '3. Buenos Aires',\n",
       " '4. Buenos Aires',\n",
       " '5. Buenos Aires',\n",
       " '6. Buenos Aires',\n",
       " '7. Buenos Aires',\n",
       " '8. Buenos Aires',\n",
       " '9. Buenos Aires',\n",
       " '10. Buenos Aires',\n",
       " '11. Buenos Aires',\n",
       " '12. Buenos Aires',\n",
       " '1. Toronto',\n",
       " '2. Toronto',\n",
       " '3. Toronto',\n",
       " '4. Toronto',\n",
       " '5. Toronto',\n",
       " '6. Toronto',\n",
       " '7. Toronto',\n",
       " '8. Toronto',\n",
       " '9. Toronto',\n",
       " '10. Toronto',\n",
       " '11. Toronto',\n",
       " '12. Toronto',\n",
       " '1. Pyeongchang',\n",
       " '2. Pyeongchang',\n",
       " '3. Pyeongchang',\n",
       " '4. Pyeongchang',\n",
       " '5. Pyeongchang',\n",
       " '6. Pyeongchang',\n",
       " '7. Pyeongchang',\n",
       " '8. Pyeongchang',\n",
       " '9. Pyeongchang',\n",
       " '10. Pyeongchang',\n",
       " '11. Pyeongchang',\n",
       " '12. Pyeongchang',\n",
       " '1. Marakesh',\n",
       " '2. Marakesh',\n",
       " '3. Marakesh',\n",
       " '4. Marakesh',\n",
       " '5. Marakesh',\n",
       " '6. Marakesh',\n",
       " '7. Marakesh',\n",
       " '8. Marakesh',\n",
       " '9. Marakesh',\n",
       " '10. Marakesh',\n",
       " '11. Marakesh',\n",
       " '12. Marakesh',\n",
       " '1. Albuquerque',\n",
       " '2. Albuquerque',\n",
       " '3. Albuquerque',\n",
       " '4. Albuquerque',\n",
       " '5. Albuquerque',\n",
       " '6. Albuquerque',\n",
       " '7. Albuquerque',\n",
       " '8. Albuquerque',\n",
       " '9. Albuquerque',\n",
       " '10. Albuquerque',\n",
       " '11. Albuquerque',\n",
       " '12. Albuquerque',\n",
       " '1. Los Cabos',\n",
       " '2. Los Cabos',\n",
       " '3. Los Cabos',\n",
       " '4. Los Cabos',\n",
       " '5. Los Cabos',\n",
       " '6. Los Cabos',\n",
       " '7. Los Cabos',\n",
       " '8. Los Cabos',\n",
       " '9. Los Cabos',\n",
       " '10. Los Cabos',\n",
       " '11. Los Cabos',\n",
       " '12. Los Cabos',\n",
       " '1. Greenville',\n",
       " '2. Greenville',\n",
       " '3. Greenville',\n",
       " '4. Greenville',\n",
       " '5. Greenville',\n",
       " '6. Greenville',\n",
       " '7. Greenville',\n",
       " '8. Greenville',\n",
       " '9. Greenville',\n",
       " '10. Greenville',\n",
       " '11. Greenville',\n",
       " '12. Greenville',\n",
       " '1. Archipelago Sea',\n",
       " '2. Archipelago Sea',\n",
       " '3. Archipelago Sea',\n",
       " '4. Archipelago Sea',\n",
       " '5. Archipelago Sea',\n",
       " '6. Archipelago Sea',\n",
       " '7. Archipelago Sea',\n",
       " '8. Archipelago Sea',\n",
       " '9. Archipelago Sea',\n",
       " '10. Archipelago Sea',\n",
       " '11. Archipelago Sea',\n",
       " '12. Archipelago Sea',\n",
       " '1. Walla Walla Valley',\n",
       " '2. Walla Walla Valley',\n",
       " '3. Walla Walla Valley',\n",
       " '4. Walla Walla Valley',\n",
       " '5. Walla Walla Valley',\n",
       " '6. Walla Walla Valley',\n",
       " '7. Walla Walla Valley',\n",
       " '8. Walla Walla Valley',\n",
       " '9. Walla Walla Valley',\n",
       " '10. Walla Walla Valley',\n",
       " '11. Walla Walla Valley',\n",
       " '12. Walla Walla Valley',\n",
       " '1. Salina Island',\n",
       " '2. Salina Island',\n",
       " '3. Salina Island',\n",
       " '4. Salina Island',\n",
       " '5. Salina Island',\n",
       " '6. Salina Island',\n",
       " '7. Salina Island',\n",
       " '8. Salina Island',\n",
       " '9. Salina Island',\n",
       " '10. Salina Island',\n",
       " '11. Salina Island',\n",
       " '12. Salina Island',\n",
       " '1. Solta',\n",
       " '2. Solta',\n",
       " '3. Solta',\n",
       " '4. Solta',\n",
       " '5. Solta',\n",
       " '6. Solta',\n",
       " '7. Solta',\n",
       " '8. Solta',\n",
       " '9. Solta',\n",
       " '10. Solta',\n",
       " '11. Solta',\n",
       " '12. Solta',\n",
       " '1. Iguazu Falls',\n",
       " '2. Iguazu Falls',\n",
       " '3. Iguazu Falls',\n",
       " '4. Iguazu Falls',\n",
       " '5. Iguazu Falls',\n",
       " '6. Iguazu Falls',\n",
       " '7. Iguazu Falls',\n",
       " '8. Iguazu Falls',\n",
       " '9. Iguazu Falls',\n",
       " '10. Iguazu Falls',\n",
       " '11. Iguazu Falls',\n",
       " '12. Iguazu Falls']"
      ]
     },
     "execution_count": 27,
     "metadata": {},
     "output_type": "execute_result"
    }
   ],
   "source": [
    "new_list = []\n",
    "for index,city in zip(city_indices,city_names):\n",
    "    new_list.append(str(index+1) +'. ' + city)\n",
    "\n",
    "new_list\n",
    "\n",
    "\n",
    "# new_list1 = []\n",
    "# for city in city_names:\n",
    "#     for index in city_indices:\n",
    "#         new_list1.append(str(index+1) +'. ' + city)\n",
    "\n",
    "# new_list1\n",
    "\n",
    "# dict1 = city_names\n",
    "# dict2 = {'Paulson' : 'Hank'}\n",
    "\n",
    "# merged_dict = dict(dict1, **dict2)\n",
    "# print(merged_dict)\n",
    "\n",
    "\n",
    "\n",
    "\n",
    "\n",
    "#index = 0\n",
    "#for each_number in [index]:\n",
    "    #while index < 10:\n",
    "        #index += 1\n",
    "        \n",
    "#for each_city in [city_names]:\n",
    "    #print(city_names, index)\n",
    "\n",
    "    \n",
    "#names_ranks = list()\n",
    "#for number in city_indices:\n",
    "    #new_number = number *+ \n",
    "    #names_ranks.append(new_number)\n",
    "    \n",
    "#print(names_ranks)\n",
    "    \n",
    "\n",
    "\n",
    "\n",
    "\n",
    "# write a for loop that adds the properly formatted string to the names_and_ranks list"
   ]
  },
  {
   "cell_type": "code",
   "execution_count": null,
   "metadata": {},
   "outputs": [],
   "source": [
    "names_and_ranks = for each_city in city_indices\n",
    "[] \n",
    "\n",
    "\n",
    "names_and_ranks[0] # '1. Buenos Aires'\n",
    "names_and_ranks[1] # '2. Toronto'\n",
    "names_and_ranks[-1] # '12. Iguazu Falls'"
   ]
  },
  {
   "cell_type": "markdown",
   "metadata": {},
   "source": [
    "Ok, now let's create a new variable called `city_populations`.  Use a `for` loop to iterate through `cities` and have `city_populations` equal to each of the populations."
   ]
  },
  {
   "cell_type": "code",
   "execution_count": null,
   "metadata": {},
   "outputs": [],
   "source": [
    "city_populations = []"
   ]
  },
  {
   "cell_type": "code",
   "execution_count": null,
   "metadata": {
    "collapsed": true
   },
   "outputs": [],
   "source": [
    "city_populations[0] # 2891000\n",
    "city_populations[1] # 2800000\n",
    "city_populations[-1] # 0"
   ]
  },
  {
   "cell_type": "markdown",
   "metadata": {},
   "source": [
    "Great! Now we can begin to plot this data.  First, let's create a trace of our populations and set it to the variable `trace_populations`."
   ]
  },
  {
   "cell_type": "code",
   "execution_count": null,
   "metadata": {},
   "outputs": [],
   "source": [
    "trace_populations = {'x': names_and_ranks, \n",
    "                     'y': city_populations, \n",
    "                     'text': names_and_ranks, \n",
    "                     'type': 'bar', \n",
    "                     'name': 'populations'}"
   ]
  },
  {
   "cell_type": "code",
   "execution_count": null,
   "metadata": {
    "collapsed": true
   },
   "outputs": [],
   "source": [
    "import plotly\n",
    "plotly.offline.init_notebook_mode(connected=True)\n",
    "plotly.offline.iplot([trace_populations])"
   ]
  },
  {
   "cell_type": "markdown",
   "metadata": {},
   "source": [
    "Now we want declare a variable called `city_areas` that points to a list of all of the areas of the cities.  Let's use a `for` loop to iterate through our `cities` and have `city_areas` equal to each area of the city.  "
   ]
  },
  {
   "cell_type": "code",
   "execution_count": null,
   "metadata": {},
   "outputs": [],
   "source": [
    "city_areas = []"
   ]
  },
  {
   "cell_type": "code",
   "execution_count": null,
   "metadata": {},
   "outputs": [],
   "source": [
    "trace_areas = {'x': names_and_ranks, 'y': city_areas, 'text': names_and_ranks, 'type': 'bar', 'name': 'areas'}"
   ]
  },
  {
   "cell_type": "code",
   "execution_count": null,
   "metadata": {
    "collapsed": true
   },
   "outputs": [],
   "source": [
    "import plotly\n",
    "plotly.offline.init_notebook_mode(connected=True)\n",
    "plotly.offline.iplot([trace_populations, trace_areas])"
   ]
  },
  {
   "cell_type": "markdown",
   "metadata": {},
   "source": [
    "### Summary"
   ]
  },
  {
   "cell_type": "markdown",
   "metadata": {},
   "source": [
    "In this section we saw how we can use `for` loops to go through elements of a list and perform the same operation on each.  By using `for` loops we were able to reduce the amount of code that we wrote and while also writing more expressive code."
   ]
  }
 ],
 "metadata": {
  "kernelspec": {
   "display_name": "Python 3",
   "language": "python",
   "name": "python3"
  },
  "language_info": {
   "codemirror_mode": {
    "name": "ipython",
    "version": 3
   },
   "file_extension": ".py",
   "mimetype": "text/x-python",
   "name": "python",
   "nbconvert_exporter": "python",
   "pygments_lexer": "ipython3",
   "version": "3.6.4"
  }
 },
 "nbformat": 4,
 "nbformat_minor": 2
}
